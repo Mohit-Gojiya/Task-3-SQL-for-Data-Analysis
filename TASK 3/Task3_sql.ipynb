{
 "cells": [
  {
   "cell_type": "code",
   "execution_count": 2,
   "metadata": {},
   "outputs": [
    {
     "name": "stdout",
     "output_type": "stream",
     "text": [
      "📥 Importing customers.csv into customers...\n",
      "📥 Importing sellers.csv into sellers...\n",
      "📥 Importing geolocation.csv into geolocation...\n",
      "📥 Importing product_category_name_translation.csv into product_category_name_translation...\n",
      "📥 Importing products.csv into products...\n",
      "📥 Importing orders.csv into orders...\n",
      "📥 Importing order_items.csv into order_items...\n",
      "📥 Importing order_payments.csv into payments...\n",
      "📥 Importing order_reviews.csv into reviews...\n",
      "✅ All CSVs imported successfully.\n"
     ]
    }
   ],
   "source": [
    "import sqlite3\n",
    "import pandas as pd\n",
    "\n",
    "# Reconnect to database\n",
    "conn = sqlite3.connect(\"ecommerce.db\")\n",
    "\n",
    "# Replace these filenames with the actual ones you're using\n",
    "csv_files = {\n",
    "    \"customers\": \"customers.csv\",\n",
    "    \"sellers\": \"sellers.csv\",\n",
    "    \"geolocation\": \"geolocation.csv\",\n",
    "    \"product_category_name_translation\": \"product_category_name_translation.csv\",\n",
    "    \"products\": \"products.csv\",\n",
    "    \"orders\": \"orders.csv\",\n",
    "    \"order_items\": \"order_items.csv\",\n",
    "    \"payments\": \"order_payments.csv\",\n",
    "    \"reviews\": \"order_reviews.csv\"\n",
    "}\n",
    "\n",
    "# Import data\n",
    "for table_name, csv_file in csv_files.items():\n",
    "    print(f\"📥 Importing {csv_file} into {table_name}...\")\n",
    "    df = pd.read_csv(csv_file)\n",
    "    df.to_sql(table_name, conn, if_exists='append', index=False)\n",
    "\n",
    "print(\"✅ All CSVs imported successfully.\")\n",
    "conn.close()\n"
   ]
  },
  {
   "cell_type": "code",
   "execution_count": 3,
   "metadata": {},
   "outputs": [],
   "source": [
    "#Basic Analysis\n",
    "import sqlite3\n",
    "import pandas as pd\n",
    "\n",
    "# Connect to your SQLite database\n",
    "conn = sqlite3.connect(\"ecommerce.db\")\n",
    "cursor = conn.cursor()\n",
    "\n"
   ]
  },
  {
   "cell_type": "code",
   "execution_count": 4,
   "metadata": {},
   "outputs": [
    {
     "name": "stdout",
     "output_type": "stream",
     "text": [
      "Total Customers: 397764\n"
     ]
    }
   ],
   "source": [
    "# Query 1: Total Number of Customers\n",
    "\n",
    "query1 = \"SELECT COUNT(*) AS total_customers FROM customers;\"\n",
    "cursor.execute(query1)\n",
    "print(\"Total Customers:\", cursor.fetchone()[0])"
   ]
  },
  {
   "cell_type": "code",
   "execution_count": 5,
   "metadata": {},
   "outputs": [
    {
     "name": "stdout",
     "output_type": "stream",
     "text": [
      "\n",
      "Top 5 Categories by Orders:\n",
      "     product_category_name  total_orders\n",
      "0         cama_mesa_banho        177840\n",
      "1            beleza_saude        154720\n",
      "2           esporte_lazer        138256\n",
      "3        moveis_decoracao        133344\n",
      "4  informatica_acessorios        125232\n"
     ]
    }
   ],
   "source": [
    "#Query 2: Top 5 Product Categories by Number of Orders\n",
    "\n",
    "query2 = \"\"\"\n",
    "SELECT p.product_category_name, COUNT(oi.order_id) AS total_orders\n",
    "FROM order_items oi\n",
    "JOIN products p ON oi.product_id = p.product_id\n",
    "GROUP BY p.product_category_name\n",
    "ORDER BY total_orders DESC\n",
    "LIMIT 5;\n",
    "\"\"\"\n",
    "df2 = pd.read_sql_query(query2, conn)\n",
    "print(\"\\nTop 5 Categories by Orders:\\n\", df2)\n"
   ]
  },
  {
   "cell_type": "code",
   "execution_count": 6,
   "metadata": {},
   "outputs": [
    {
     "name": "stdout",
     "output_type": "stream",
     "text": [
      "\n",
      "Monthly Sales Trend:\n",
      "    order_month   total_sales\n",
      "0      2016-09  7.095000e+03\n",
      "1      2016-10  1.136177e+06\n",
      "2      2016-12  3.924000e+02\n",
      "3      2017-01  2.743770e+06\n",
      "4      2017-02  5.725612e+06\n",
      "5      2017-03  8.640972e+06\n",
      "6      2017-04  8.248445e+06\n",
      "7      2017-05  1.172382e+07\n",
      "8      2017-06  1.005926e+07\n",
      "9      2017-07  1.169943e+07\n",
      "10     2017-08  1.336409e+07\n",
      "11     2017-09  1.440798e+07\n",
      "12     2017-10  1.538625e+07\n",
      "13     2017-11  2.358288e+07\n",
      "14     2017-12  1.727094e+07\n",
      "15     2018-01  2.214604e+07\n",
      "16     2018-02  1.973818e+07\n",
      "17     2018-03  2.310254e+07\n",
      "18     2018-04  2.319396e+07\n",
      "19     2018-05  2.299564e+07\n",
      "20     2018-06  2.045354e+07\n",
      "21     2018-07  2.117456e+07\n",
      "22     2018-08  2.006617e+07\n",
      "23     2018-09  3.329200e+03\n"
     ]
    }
   ],
   "source": [
    "#Query 3: Monthly Sales Trend\n",
    "\n",
    "query3 = \"\"\"\n",
    "SELECT \n",
    "    strftime('%Y-%m', o.order_purchase_timestamp) AS order_month,\n",
    "    SUM(oi.price + oi.freight_value) AS total_sales\n",
    "FROM orders o\n",
    "JOIN order_items oi ON o.order_id = oi.order_id\n",
    "GROUP BY order_month\n",
    "ORDER BY order_month;\n",
    "\"\"\"\n",
    "df3 = pd.read_sql_query(query3, conn)\n",
    "print(\"\\nMonthly Sales Trend:\\n\", df3)\n"
   ]
  },
  {
   "cell_type": "code",
   "execution_count": 7,
   "metadata": {},
   "outputs": [
    {
     "name": "stdout",
     "output_type": "stream",
     "text": [
      "\n",
      "Customer Order Count:\n",
      "                  customer_unique_id  order_count\n",
      "0  8d50f5eadf50201ccdcedfb9e2ac8455          340\n",
      "1  3e43e6105506432c953e165fb2acf44c          180\n",
      "2  ca77025e7201e3b30c44b472ff346268          140\n",
      "3  6469f99c1f9dfae7733b25662e7f1782          140\n",
      "4  1b6c7548a2a1f9037c1fd3ddfed95f33          140\n",
      "5  f0e310a6839dce9de1638e0fe5ab282a          120\n",
      "6  de34b16117594161a6a89c50b289d35a          120\n",
      "7  dc813062e0fc23409cd255f7f53c7074          120\n",
      "8  63cfc61cee11cbe306bff5857d00bfe4          120\n",
      "9  47c1a3033b8b77b3ab6e109eb4d5fdf3          120\n"
     ]
    }
   ],
   "source": [
    "# Query 4: Customer Order Count\n",
    "\n",
    "query4 = \"\"\"\n",
    "SELECT c.customer_unique_id, COUNT(o.order_id) AS order_count\n",
    "FROM customers c\n",
    "JOIN orders o ON c.customer_id = o.customer_id\n",
    "GROUP BY c.customer_unique_id\n",
    "ORDER BY order_count DESC\n",
    "LIMIT 10;\n",
    "\"\"\"\n",
    "df4 = pd.read_sql_query(query4, conn)\n",
    "print(\"\\nCustomer Order Count:\\n\", df4)\n"
   ]
  },
  {
   "cell_type": "code",
   "execution_count": 8,
   "metadata": {},
   "outputs": [
    {
     "name": "stdout",
     "output_type": "stream",
     "text": [
      "\n",
      "Total Payment per Order:\n",
      "                            order_id payment_type  total_payment\n",
      "0  03caa2c082116e1d31e67e9ae3700499  credit_card       40992.24\n",
      "1  736e1922ae60d0d6a89247b851902527       boleto       21824.64\n",
      "2  0812eb902a67711a1cb742b3cdaa65ae  credit_card       20787.93\n",
      "3  fefacc66af859508bf1a7934eab1e97f       boleto       20766.63\n",
      "4  f5136e38d1a14a4dbd87dff67da82701       boleto       20179.98\n",
      "5  2cc9089445046817a7539d90805e6e5a       boleto       18244.62\n",
      "6  a96610ab360d42a2e5335a3998b4718a  credit_card       14851.02\n",
      "7  b4c4b76c642808cbe472a32b86cddc95  credit_card       14428.32\n",
      "8  199af31afc78c699f0dbf71fb178d4d4  credit_card       14293.02\n",
      "9  8dbc85d1447242f3b127dda390d56e19  credit_card       14045.34\n"
     ]
    }
   ],
   "source": [
    "# Query 5: Total Payment per Order by Payment Type\n",
    "\n",
    "query6 = \"\"\"\n",
    "SELECT order_id, payment_type, SUM(payment_value) AS total_payment\n",
    "FROM payments\n",
    "GROUP BY order_id, payment_type\n",
    "ORDER BY total_payment DESC\n",
    "LIMIT 10;\n",
    "\"\"\"\n",
    "df6 = pd.read_sql_query(query6, conn)\n",
    "print(\"\\nTotal Payment per Order:\\n\", df6)\n",
    "\n"
   ]
  },
  {
   "cell_type": "code",
   "execution_count": null,
   "metadata": {},
   "outputs": [],
   "source": []
  }
 ],
 "metadata": {
  "kernelspec": {
   "display_name": "Python 3",
   "language": "python",
   "name": "python3"
  },
  "language_info": {
   "codemirror_mode": {
    "name": "ipython",
    "version": 3
   },
   "file_extension": ".py",
   "mimetype": "text/x-python",
   "name": "python",
   "nbconvert_exporter": "python",
   "pygments_lexer": "ipython3",
   "version": "3.11.4"
  }
 },
 "nbformat": 4,
 "nbformat_minor": 2
}
